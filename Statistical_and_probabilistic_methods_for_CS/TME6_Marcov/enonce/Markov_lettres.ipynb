{
 "cells": [
  {
   "cell_type": "markdown",
   "metadata": {},
   "source": [
    "# TME sur la classification de lettres manuscrites\n",
    "## Format des données\n",
    "Nous travaillerons sur des lettres manuscrites.\n",
    "Les données sont fournies au format pickle (le standard de sérialisation python, particulièrement convivial). Pour les charger : "
   ]
  },
  {
   "cell_type": "code",
   "execution_count": 2,
   "metadata": {},
   "outputs": [
    {
     "name": "stderr",
     "output_type": "stream",
     "text": [
      "/usr/lib/python3/dist-packages/ipykernel_launcher.py:7: VisibleDeprecationWarning: Creating an ndarray from ragged nested sequences (which is a list-or-tuple of lists-or-tuples-or ndarrays with different lengths or shapes) is deprecated. If you meant to do this, you must specify 'dtype=object' when creating the ndarray\n",
      "  import sys\n"
     ]
    }
   ],
   "source": [
    "import numpy as np\n",
    "import pickle as pkl\n",
    "import matplotlib.pyplot as plt\n",
    "\n",
    "with open('ressources/lettres.pkl', 'rb') as f:\n",
    "    data = pkl.load(f, encoding='latin1') \n",
    "X = np.array(data.get('letters')) # récupération des données sur les lettres\n",
    "Y = np.array(data.get('labels')) # récupération des étiquettes associées "
   ]
  },
  {
   "cell_type": "code",
   "execution_count": 8,
   "metadata": {},
   "outputs": [
    {
     "name": "stdout",
     "output_type": "stream",
     "text": [
      "(array([1, 3]),)\n"
     ]
    }
   ],
   "source": [
    "A=np.array([1, 2, 3, 2, 1])\n",
    "C=np.array([2, 2, 2, 2, 2])\n",
    "B=np.array([2,2])\n",
    "#print(A*B)\n",
    "#print(A@B)\n",
    "print(np.where (A==2))"
   ]
  },
  {
   "cell_type": "markdown",
   "metadata": {},
   "source": [
    "Les données sont dans un format original: une lettre est en fait une série d'angles (exprimés en degrés). Un exemple: "
   ]
  },
  {
   "cell_type": "code",
   "execution_count": 196,
   "metadata": {},
   "outputs": [
    {
     "data": {
      "text/plain": [
       "array([ 36.214493, 347.719116, 322.088898, 312.230957, 314.851013,\n",
       "       315.487213, 313.556702, 326.534973, 141.288971, 167.606689,\n",
       "       199.321594, 217.911087, 226.443298, 235.002472, 252.354492,\n",
       "       270.045654, 291.665161, 350.934723,  17.892815,  20.281025,\n",
       "        28.207161,  43.883423,  53.459026])"
      ]
     },
     "execution_count": 196,
     "metadata": {},
     "output_type": "execute_result"
    }
   ],
   "source": [
    "X[0]"
   ]
  },
  {
   "cell_type": "markdown",
   "metadata": {},
   "source": [
    "Lors de l'acquisition, un stylo intelligent a pris des mesures régulièrement dans le temps: chaque période correspond à un segment de droite et le stylo a calculé l'angle entre deux segments consécutifs... C'est l'information qui vous est fournie.\n",
    "\n",
    "Pour afficher une lettre, il faut reconstruire la trajectoire enregistrée... C'est ce que fait la méthode ci-dessous: "
   ]
  },
  {
   "cell_type": "code",
   "execution_count": 197,
   "metadata": {},
   "outputs": [],
   "source": [
    "# affichage d'une lettre\n",
    "def tracerLettre(let):\n",
    "    a = -let*np.pi/180; # conversion en rad\n",
    "    coord = np.array([[0, 0]]); # point initial\n",
    "    for i in range(len(a)):\n",
    "        x = np.array([[1, 0]]);\n",
    "        rot = np.array([[np.cos(a[i]), -np.sin(a[i])],[ np.sin(a[i]),np.cos(a[i])]])\n",
    "        xr = x.dot(rot) # application de la rotation\n",
    "        coord = np.vstack((coord,xr+coord[-1,:]))\n",
    "    plt.figure()\n",
    "    plt.plot(coord[:,0],coord[:,1])\n",
    "    #plt.savefig(\"exlettre.png\")\n",
    "    return"
   ]
  },
  {
   "cell_type": "code",
   "execution_count": 198,
   "metadata": {},
   "outputs": [
    {
     "name": "stdout",
     "output_type": "stream",
     "text": [
      "a\n"
     ]
    },
    {
     "data": {
      "image/png": "[encoded data removed]",
      "text/plain": [
       "<Figure size 432x288 with 1 Axes>"
      ]
     },
     "metadata": {},
     "output_type": "display_data"
    }
   ],
   "source": [
    "# il s'agit d'un 'a'\n",
    "tracerLettre(X[0])\n",
    "print(Y[0]) # vérification de l'étiquette"
   ]
  },
  {
   "cell_type": "markdown",
   "metadata": {},
   "source": [
    "## A. Apprentissage d'un modèle CM (max de vraisemblance)\n",
    "### A1. Discrétisation\n",
    "\n",
    "**1 état = 1 angle**\n",
    "\n",
    "Il est nécessaire de regrouper les angles en un nombre fini d'états (par exemple 20)\n",
    "- définir un `intervalle = 360 / n_etats` (18° si on choisit 20 états)\n",
    "- discrétiser tous les signaux à l'aide de la formule `np.floor(x / intervalle)`\n",
    "    - si n_etats = 20 alors [0, 18[ => 0, [18, 36[ => 1, etc...\n",
    "\n",
    "Donner le code de la méthode `discretise(x, d)` qui prend la base des signaux et retourne une base de signaux discrétisés."
   ]
  },
  {
   "cell_type": "code",
   "execution_count": 199,
   "metadata": {},
   "outputs": [],
   "source": [
    "def discretise_intermediate(x, d):\n",
    "    \n",
    "    # Votre code :\n",
    "    intervalle=360/d\n",
    "    #print(x)\n",
    "    a=x/intervalle\n",
    "    #print(a)\n",
    "    \n",
    "    return np.floor(a)\n",
    "def discretise(x, d):\n",
    "    return np.array([discretise_intermediate(x[i], d) for i in range(x.shape[0])])"
   ]
  },
  {
   "cell_type": "code",
   "execution_count": 200,
   "metadata": {},
   "outputs": [
    {
     "data": {
      "text/plain": [
       "array([0., 2., 2., 2., 2., 2., 2., 2., 1., 1., 1., 1., 1., 1., 2., 2., 2.,\n",
       "       2., 0., 0., 0., 0., 0.])"
      ]
     },
     "execution_count": 200,
     "metadata": {},
     "output_type": "execute_result"
    }
   ],
   "source": [
    "### test \n",
    "discretise(X[0], 3)\n"
   ]
  },
  {
   "cell_type": "markdown",
   "metadata": {},
   "source": [
    "**VALIDATION :** code du premier signal avec une discrétisation sur 3 états:\n",
    "```python\n",
    "array([ 0.,  2.,  2.,  2.,  2.,  2.,  2.,  2.,  1.,  1.,  1.,  1., 1., 1., 2., 2.,  2.,\n",
    "       2.,  0.,  0.,  0.,  0.,  0.])\n",
    "```"
   ]
  },
  {
   "cell_type": "markdown",
   "metadata": {},
   "source": [
    "### A2. Regrouper les indices des signaux par classe (pour faciliter l'apprentissage)"
   ]
  },
  {
   "cell_type": "code",
   "execution_count": 201,
   "metadata": {},
   "outputs": [],
   "source": [
    "def groupByLabel(y):\n",
    "    index = []\n",
    "    for i in np.unique(y): # pour toutes les classes\n",
    "        ind, = np.where(y == i)\n",
    "        index.append(ind)\n",
    "    return index"
   ]
  },
  {
   "cell_type": "code",
   "execution_count": 202,
   "metadata": {},
   "outputs": [
    {
     "name": "stdout",
     "output_type": "stream",
     "text": [
      "['a' 'b' 'c' 'd' 'e' 'f' 'g' 'h' 'i' 'j' 'k' 'l' 'm' 'n' 'o' 'p' 'q' 'r'\n",
      " 's' 't' 'u' 'v' 'w' 'x' 'y' 'z']\n"
     ]
    }
   ],
   "source": [
    "# for me \n",
    "print(np.unique(Y))"
   ]
  },
  {
   "cell_type": "code",
   "execution_count": 203,
   "metadata": {},
   "outputs": [
    {
     "name": "stdout",
     "output_type": "stream",
     "text": [
      "[array([ 0,  1,  2,  3,  4,  5,  6,  7,  8,  9, 10]), array([11, 12, 13, 14, 15, 16, 17, 18, 19, 20, 21]), array([22, 23, 24, 25, 26, 27, 28, 29, 30, 31, 32]), array([33, 34, 35, 36, 37, 38, 39, 40, 41, 42, 43]), array([44, 45, 46, 47, 48, 49, 50, 51, 52, 53, 54]), array([55, 56, 57, 58, 59, 60, 61, 62, 63, 64, 65]), array([66, 67, 68, 69, 70, 71, 72, 73, 74, 75, 76]), array([77, 78, 79, 80, 81, 82, 83, 84, 85, 86, 87]), array([88, 89, 90, 91, 92, 93, 94, 95, 96, 97]), array([ 98,  99, 100, 101, 102, 103, 104, 105, 106, 107]), array([108, 109, 110, 111, 112, 113, 114, 115, 116, 117]), array([118, 119, 120, 121, 122, 123, 124, 125, 126, 127]), array([128, 129, 130, 131, 132, 133, 134, 135, 136, 137]), array([138, 139, 140, 141, 142, 143, 144, 145, 146, 147]), array([148, 149, 150, 151, 152, 153, 154, 155, 156, 157]), array([158, 159, 160, 161, 162, 163, 164, 165, 166, 167]), array([168, 169, 170, 171, 172, 173, 174, 175, 176, 177]), array([178, 179, 180, 181, 182, 183, 184, 185, 186, 187]), array([188, 189, 190, 191, 192, 193, 194, 195, 196, 197]), array([198, 199, 200, 201, 202, 203, 204, 205, 206, 207]), array([208, 209, 210, 211, 212, 213, 214, 215, 216, 217]), array([218, 219, 220, 221, 222, 223, 224, 225, 226, 227]), array([228, 229, 230, 231, 232, 233, 234, 235, 236, 237]), array([238, 239, 240, 241, 242, 243, 244, 245, 246, 247]), array([248, 249, 250, 251, 252, 253, 254, 255, 256, 257]), array([258, 259, 260, 261, 262, 263, 264, 265, 266, 267])]\n"
     ]
    }
   ],
   "source": [
    "index=groupByLabel(Y)\n",
    "print(index)"
   ]
  },
  {
   "cell_type": "markdown",
   "metadata": {},
   "source": [
    "Cette méthode produit simplement une structure type:\n",
    "```python\n",
    "[array([ 0,  1,  2,  3,  4,  5,  6,  7,  8,  9, 10]),\n",
    " array([11, 12, 13, 14, 15, 16, 17, 18, 19, 20, 21]),\n",
    " array([22, 23, 24, 25, 26, 27, 28, 29, 30, 31, 32]),\n",
    " array([33, 34, 35, 36, 37, 38, 39, 40, 41, 42, 43]),\n",
    " array([44, 45, 46, 47, 48, 49, 50, 51, 52, 53, 54]),\n",
    " array([55, 56, 57, 58, 59, 60, 61, 62, 63, 64, 65]),\n",
    " ...\n",
    "```\n",
    "Chaque ligne regroupe les indices de signaux correspondant à une classe. Il y a donc 11 exemples de 'a'."
   ]
  },
  {
   "cell_type": "markdown",
   "metadata": {},
   "source": [
    "### A3. Apprendre les modèles CM\n",
    "\n",
    "Soit {$X_C$} la base de signaux discrétisés correspondant à une classe {$C$} et {$d$} le nombre d'états. Donner le code de la fonction `learnMarkovModel(Xc, d)` qui retourne un tuple contenant Pi et A.\n",
    "\n",
    "Rappel:\n",
    "- Initialisation de \n",
    "```python\n",
    " A = np.zeros((d, d))\n",
    " Pi = np.zeros(d)```\n",
    "- Parcours de tous les signaux et incréments de A et Pi\n",
    "- Normalisation (un peu réfléchie pour éviter les divisions par 0)\n",
    "```python\n",
    "A = A / np.maximum(A.sum(1).reshape(d, 1), 1) # normalisation\n",
    "Pi = Pi / Pi.sum()```\n",
    "\n",
    "**Note** : la solution proposée pour gérer le cas des lignes entièrement à 0 est naïve et n'est pas totalement satisfaisante. Comprendre pourquoi. On proposera une solution améliorée plus loin dans le TME. "
   ]
  },
  {
   "cell_type": "code",
   "execution_count": 204,
   "metadata": {},
   "outputs": [],
   "source": [
    "#retourne tuple pi, A\n",
    "def learnMarkovModel(Xc, d):\n",
    "    #Xc: signaux d'une classe donnée\n",
    "    # votre code\n",
    "    # init\n",
    "    A=np.zeros((d,d))\n",
    "    Pi=np.zeros(d)\n",
    "    for i in range(Xc.shape[0]):\n",
    "        # pour pi, on regarde la premiere valeur du signal X[i,0]\n",
    "        #donne l'état initial pour la séquence i\n",
    "        indice=Xc[i][0]\n",
    "        #on rajoute 1 à celui ci\n",
    "        Pi[np.int(indice)]+=1\n",
    "        for j in range(Xc[i].shape[0]-1):\n",
    "            A[np.int(Xc[i][j]),np.int( Xc[i][j+1])]+=1\n",
    "        \n",
    "    # on normalise pi sur le nombre de séquences \n",
    "    #faire attention aux divisions par 0 ici\n",
    "    Pi=Pi/Pi.sum()\n",
    "    A=A/np.maximum(A.sum(1).reshape(d,1), 1)\n",
    "    return Pi, A"
   ]
  },
  {
   "cell_type": "code",
   "execution_count": 205,
   "metadata": {},
   "outputs": [
    {
     "name": "stdout",
     "output_type": "stream",
     "text": [
      "[0.36363636 0.         0.63636364]\n",
      "[[0.84444444 0.06666667 0.08888889]\n",
      " [0.         0.83333333 0.16666667]\n",
      " [0.11382114 0.06504065 0.82113821]]\n"
     ]
    },
    {
     "name": "stderr",
     "output_type": "stream",
     "text": [
      "/usr/lib/python3/dist-packages/ipykernel_launcher.py:11: VisibleDeprecationWarning: Creating an ndarray from ragged nested sequences (which is a list-or-tuple of lists-or-tuples-or ndarrays with different lengths or shapes) is deprecated. If you meant to do this, you must specify 'dtype=object' when creating the ndarray\n",
      "  # This is added back by InteractiveShellApp.init_path()\n"
     ]
    }
   ],
   "source": [
    "# test\n",
    "#Disc=np.array([discretise(X[i], 3) for i in range(X.shape[0])])\n",
    "Disc=discretise(X, 3)\n",
    "#print(Disc)\n",
    "\n",
    "index=groupByLabel(Y)\n",
    "# regrouper les signaux par classes\n",
    "#print(Disc[index[0]])\n",
    "pi, A=learnMarkovModel(Disc[index[0]] ,3)\n",
    "print(pi)\n",
    "print(A)"
   ]
  },
  {
   "cell_type": "markdown",
   "metadata": {},
   "source": [
    "**Validation :** premier modèle avec une discrétisation sur 3 états :\n",
    "```python\n",
    "(array([ 0.36363636,  0.        ,  0.63636364]),\n",
    " array([[ 0.84444444,  0.06666667,  0.08888889],\n",
    "       [ 0.        ,  0.83333333,  0.16666667],\n",
    "       [ 0.11382114,  0.06504065,  0.82113821]]))\n",
    "```"
   ]
  },
  {
   "cell_type": "markdown",
   "metadata": {},
   "source": [
    "### A4. Stocker les modèles dans une liste\n",
    "\n",
    "Pour un usage ultérieur plus facile, on utilise le code suivant :"
   ]
  },
  {
   "cell_type": "code",
   "execution_count": 206,
   "metadata": {},
   "outputs": [
    {
     "name": "stderr",
     "output_type": "stream",
     "text": [
      "/usr/lib/python3/dist-packages/ipykernel_launcher.py:11: VisibleDeprecationWarning: Creating an ndarray from ragged nested sequences (which is a list-or-tuple of lists-or-tuples-or ndarrays with different lengths or shapes) is deprecated. If you meant to do this, you must specify 'dtype=object' when creating the ndarray\n",
      "  # This is added back by InteractiveShellApp.init_path()\n"
     ]
    }
   ],
   "source": [
    "d = 20                   # paramètre de discrétisation\n",
    "Xd = discretise(X, d)    # application de la discrétisation\n",
    "#Xd=np.array([discretise(X[i], d) for i in range(X.shape[0])])\n",
    "index = groupByLabel(Y)  # groupement des signaux par classe\n",
    "models = []\n",
    "for cl in range(len(np.unique(Y))): # parcours de toutes les classes et optimisation des modèles\n",
    "    models.append(learnMarkovModel(Xd[index[cl]], d))"
   ]
  },
  {
   "cell_type": "markdown",
   "metadata": {},
   "source": [
    "### A5. Distribution stationnaire\n",
    "\n",
    "La distribution stationnaire $\\mu$, pour un système ergodique, correspond à:\n",
    "\n",
    "- la distribution des états observés dans l'ensemble des données\n",
    "- la distribution obtenu après un grand nombre de passage dans $A$ à partir de n'importe quelle distribution ou état d'origine (une matrice de transition ergodique va nous permettre de converger)\n",
    "- la solution de l'équation de stabilité: $\\mu = \\mu A$\n",
    "\n",
    "Dans le cas de la lettre 'a' et d'une discrétisation en 3 états, calculer la distribution stationnaire par les deux première méthode et vérifier que vous obtenez des résultats similaires.\n",
    "\n",
    "**Note:** pour la marche aléatoire, vous construirez une boucle sur 100 iérations (borne sup) et vous sortirez dès que la somme des écarts (en absolu) entre $\\mu_t$ et $\\mu_{t+1}$ est inférieure à $10^{-3}$. Vous vérifierez ensuite que le système converge quelque soit l'état de départ (3 appel àla fonction) ou avec une initialisation aléatoire."
   ]
  },
  {
   "cell_type": "code",
   "execution_count": 278,
   "metadata": {},
   "outputs": [
    {
     "name": "stdout",
     "output_type": "stream",
     "text": [
      "[0.2590908  0.32631825 0.41459096]\n"
     ]
    },
    {
     "name": "stderr",
     "output_type": "stream",
     "text": [
      "/usr/lib/python3/dist-packages/ipykernel_launcher.py:11: VisibleDeprecationWarning: Creating an ndarray from ragged nested sequences (which is a list-or-tuple of lists-or-tuples-or ndarrays with different lengths or shapes) is deprecated. If you meant to do this, you must specify 'dtype=object' when creating the ndarray\n",
      "  # This is added back by InteractiveShellApp.init_path()\n"
     ]
    }
   ],
   "source": [
    "# dans le cas d'une discrétisation à trois états\n",
    "\n",
    "\n",
    "# méthode 1\n",
    "'''d=3\n",
    "mu_i=np.zeros((Disc.shape[0],d))\n",
    "label=groupByLabel(Y)\n",
    "Disc=Disc[label[0]]\n",
    "for i in range (Disc.shape[0]):\n",
    "    for j in range (d):\n",
    "        ind, =np.where(Disc[4:i]==j)\n",
    "        if(len(Disc[4:i])>0):\n",
    "            mu_i[i,j]=len(ind)/len(Disc[4:i])\n",
    "mu=np.mean(mu_i, axis=0)\n",
    "print(mu)\n",
    "print(Disc[0])\n",
    "ind, =np.where(Disc[0]==0)\n",
    "print(len(ind))\n",
    "print(len(Disc[0]))\n",
    "'''\n",
    "def moys(x, y, lettre, d):\n",
    "    # Discrétiser tous mon échantillon\n",
    "    Xd = discretise(x, d)\n",
    "    #regrouper les indices par labels\n",
    "    index = groupByLabel(Y)\n",
    "    l = ord(lettre) - ord('a')\n",
    "    # récuperer la partie de l'échantillon qui donne a seulement\n",
    "    Xd = Xd[index[l]]\n",
    "    \n",
    "    # je veux une valeur pour chaque état qui représente la valeur stationnaire\n",
    "    moy_tot = np.zeros(d)\n",
    "    for signal in Xd:\n",
    "        moy = np.zeros(d)\n",
    "        #on fait la moyenne des états pour chaque signal\n",
    "        for i in range(d):\n",
    "            moy[i] = len(np.where(signal[4:] == i)[0])\n",
    "        # on ajoute ces moyennes dans la moyenne totale\n",
    "        moy_tot += moy/len(signal[4:])\n",
    "\n",
    "    return moy_tot/len(Xd)\n",
    "print(moys(X,Y, 'a', 3))"
   ]
  },
  {
   "cell_type": "code",
   "execution_count": 280,
   "metadata": {},
   "outputs": [
    {
     "name": "stdout",
     "output_type": "stream",
     "text": [
      "[0.3030303  0.28282828 0.41414141]\n",
      "[0.3030303  0.28282828 0.41414141]\n"
     ]
    }
   ],
   "source": [
    "# méthode 2\n",
    "# on part d'une distribution initiale quelconque \n",
    "# je part de pi la valeur initiale trouvé avec learnMarcov...\n",
    "pi, A=learnMarkovModel(Disc[index[0]] ,3)\n",
    "mu=pi\n",
    "\n",
    "for i in range(100):\n",
    "    mu=pi@A\n",
    "    pi=mu\n",
    "print(mu)\n",
    "for i in range(1000):\n",
    "    mu=pi@A\n",
    "    pi=mu\n",
    "    \n",
    "    \n",
    "print(mu)"
   ]
  },
  {
   "cell_type": "markdown",
   "metadata": {},
   "source": [
    "On remarque qu'on a les mêmes valeurs après 100 itération et 1000 itérations, donc on a bien un état stationnaire unique"
   ]
  },
  {
   "cell_type": "code",
   "execution_count": 285,
   "metadata": {},
   "outputs": [
    {
     "name": "stdout",
     "output_type": "stream",
     "text": [
      "[0.3018398 0.2830378 0.4151224]\n",
      "[0.30110752 0.28416586 0.41472662]\n",
      "[0.30444929 0.28223763 0.41331308]\n"
     ]
    }
   ],
   "source": [
    "#methode 2 de façon plus formelle \n",
    "import random\n",
    "def aleat_walk(pi):\n",
    "    for i in range (100):\n",
    "        mu=pi@A\n",
    "        if(np.sum(np.abs(mu-pi))<1e-3):\n",
    "            return mu\n",
    "        pi=mu\n",
    "#3 appels\n",
    "for i in range(3): \n",
    "    a=random.random()\n",
    "    b=random.random()-a\n",
    "    pi=np.array([a,b,(1-b-a)  ])\n",
    "    mu=aleat_walk(pi)\n",
    "    print(mu)"
   ]
  },
  {
   "cell_type": "markdown",
   "metadata": {},
   "source": [
    "##  B. Test (affectation dans les classes sur critère MV)\n",
    "### B1. (log)Probabilité d'une séquence dans un modèle\n",
    "\n",
    "Donner le code de la méthode `probaSequence(s,Pi,A)` qui retourne la log-probabilité d'une séquence `s` dans le modèle {$\\lambda=\\{Pi,A\\}$} "
   ]
  },
  {
   "cell_type": "code",
   "execution_count": 209,
   "metadata": {},
   "outputs": [],
   "source": [
    "def probaSequence(s, Pi, A):\n",
    "    \n",
    "    # Votre code\n",
    "    res=np.log( Pi[np.int(s[0])])\n",
    "    # retourne la log proba dans un modèle \n",
    "    #for i in range(s.shape[0]-1):\n",
    "    for i in range(s.shape[0]-1):\n",
    "        # = somme des log de chaque proba \n",
    "        res+=np.log(A[np.int(s[i]), np.int(s[i+1])])\n",
    "    return res\n",
    "    \n",
    "    return"
   ]
  },
  {
   "cell_type": "code",
   "execution_count": 212,
   "metadata": {},
   "outputs": [
    {
     "name": "stdout",
     "output_type": "stream",
     "text": [
      "[-13.491086           -inf         -inf         -inf         -inf\n",
      "         -inf         -inf         -inf         -inf         -inf\n",
      "         -inf         -inf         -inf         -inf         -inf\n",
      "         -inf         -inf         -inf         -inf         -inf\n",
      "         -inf         -inf         -inf         -inf         -inf\n",
      " -12.48285678]\n"
     ]
    },
    {
     "name": "stderr",
     "output_type": "stream",
     "text": [
      "/usr/lib/python3/dist-packages/ipykernel_launcher.py:11: VisibleDeprecationWarning: Creating an ndarray from ragged nested sequences (which is a list-or-tuple of lists-or-tuples-or ndarrays with different lengths or shapes) is deprecated. If you meant to do this, you must specify 'dtype=object' when creating the ndarray\n",
      "  # This is added back by InteractiveShellApp.init_path()\n",
      "/usr/lib/python3/dist-packages/ipykernel_launcher.py:4: RuntimeWarning: divide by zero encountered in log\n",
      "  after removing the cwd from sys.path.\n",
      "/usr/lib/python3/dist-packages/ipykernel_launcher.py:9: RuntimeWarning: divide by zero encountered in log\n",
      "  if __name__ == '__main__':\n"
     ]
    }
   ],
   "source": [
    "# pour les 26 modèle\n",
    "Disc=discretise(X, 3)\n",
    "Res=np.zeros( np.size(np.unique(Y)))\n",
    "# pour chacune des classes, je calcule sa proba\n",
    "for i in range( np.size(np.unique(Y))):\n",
    "    # paramètre du modèle pour la classe i\n",
    "    val=Disc[index[i]]\n",
    "    Pi,A=learnMarkovModel( val,3)\n",
    "    a=Disc[0]\n",
    "    # proba du 1er signal\n",
    "    Res[i]=probaSequence(a,Pi,A )\n",
    "    \n",
    "print(Res)"
   ]
  },
  {
   "cell_type": "markdown",
   "metadata": {},
   "source": [
    "**VALIDATION :** probabilité du premier signal dans les 26 modèles avec une discrétisation sur 3 états :\n",
    "```python\n",
    "array([-13.491086  ,         -inf,         -inf,         -inf,\n",
    "               -inf,         -inf,         -inf,         -inf,\n",
    "               -inf,         -inf,         -inf,         -inf,\n",
    "               -inf,         -inf,         -inf,         -inf,\n",
    "               -inf,         -inf,         -inf,         -inf,\n",
    "               -inf,         -inf,         -inf,         -inf,\n",
    "               -inf, -12.48285678])\n",
    "```\n",
    "\n",
    "- Ce signal est-il bien classé ?\n",
    "- D'où viennent tous les `-inf` ? "
   ]
  },
  {
   "cell_type": "markdown",
   "metadata": {},
   "source": [
    "### B2. Application de la méthode précédente pour tous les signaux et tous les modèles de lettres\n",
    "\n",
    "L'application se fait en une ligne de code si vous avez respecté les spécifications précédentes : "
   ]
  },
  {
   "cell_type": "code",
   "execution_count": 213,
   "metadata": {},
   "outputs": [
    {
     "name": "stderr",
     "output_type": "stream",
     "text": [
      "/usr/lib/python3/dist-packages/ipykernel_launcher.py:4: RuntimeWarning: divide by zero encountered in log\n",
      "  after removing the cwd from sys.path.\n",
      "/usr/lib/python3/dist-packages/ipykernel_launcher.py:9: RuntimeWarning: divide by zero encountered in log\n",
      "  if __name__ == '__main__':\n"
     ]
    }
   ],
   "source": [
    "proba = np.array([[probaSequence(Xd[i], models[cl][0], models[cl][1]) for i in range(len(Xd))]\n",
    "                  for cl in range(len(np.unique(Y)))])"
   ]
  },
  {
   "cell_type": "markdown",
   "metadata": {},
   "source": [
    "### B3. Evaluation des performances\n",
    "\n",
    "Pour l'évaluation, nous proposons l'approche suivante: "
   ]
  },
  {
   "cell_type": "code",
   "execution_count": 214,
   "metadata": {},
   "outputs": [
    {
     "data": {
      "text/plain": [
       "0.914179104477612"
      ]
     },
     "execution_count": 214,
     "metadata": {},
     "output_type": "execute_result"
    }
   ],
   "source": [
    "# calcul d'une version numérique des Y :\n",
    "Ynum = np.zeros(Y.shape)\n",
    "for num, char in enumerate(np.unique(Y)):\n",
    "    Ynum[Y == char] = num\n",
    "    \n",
    "# Calcul de la classe la plus probable :\n",
    "pred = proba.argmax(0) # max colonne par colonne\n",
    "\n",
    "# Calcul d'un pourcentage de bonne classification :\n",
    "# met à 0 les trucs différents et à 1 ceux qui ne sont égaux \n",
    "np.where(pred != Ynum, 0.,1.).mean()"
   ]
  },
  {
   "cell_type": "markdown",
   "metadata": {},
   "source": [
    "**INDICE DE PERFORMANCE :** 91% de bonne classification avec 20 états, 69% avec 3 états"
   ]
  },
  {
   "cell_type": "markdown",
   "metadata": {},
   "source": [
    "## C. Biais d'évaluation, notion de sur-apprentissage\n",
    "\n",
    "Dans le protocole précédent, nous avons triché:\n",
    "- les données servent d'abord à apprendre les modèles...\n",
    "- puis nous nous servons des mêmes données pour tester les modèles ! Les performances sont forcément bonnes ! \n",
    "\n",
    "Afin de palier le problème, nous allons diviser en deux la base de données: une partie servira à l'apprentissage des modèles, l'autre à leur évaluation. Pour effectuer la division, nous fournissons le code suivant: "
   ]
  },
  {
   "cell_type": "code",
   "execution_count": 252,
   "metadata": {},
   "outputs": [],
   "source": [
    "# separation app/test, pc=ratio de points en apprentissage\n",
    "def separeTrainTest(y, pc):\n",
    "    indTrain = []\n",
    "    indTest = []\n",
    "    for i in np.unique(y): # pour toutes les classes\n",
    "        ind, = np.where(y == i)\n",
    "        n = len(ind)\n",
    "        indTrain.append(ind[np.random.permutation(n)][:int(np.floor(pc * n))])\n",
    "        indTest.append(np.setdiff1d(ind, indTrain[-1]))\n",
    "    return indTrain, indTest\n",
    "\n",
    "# exemple d'utilisation\n",
    "itrain, itest = separeTrainTest(Y, 0.8)"
   ]
  },
  {
   "cell_type": "markdown",
   "metadata": {},
   "source": [
    "dans `itrain`, nous obtenons les indices des signaux qui doivent servir en apprentissage pour chaque classe :"
   ]
  },
  {
   "cell_type": "code",
   "execution_count": 253,
   "metadata": {},
   "outputs": [
    {
     "data": {
      "text/plain": [
       "[array([ 1, 10,  0,  4,  6,  2,  9,  8]),\n",
       " array([20, 15, 13, 14, 16, 11, 19, 12]),\n",
       " array([22, 24, 32, 30, 25, 26, 29, 23]),\n",
       " array([41, 40, 37, 33, 42, 39, 34, 43]),\n",
       " array([46, 47, 51, 44, 48, 54, 52, 50]),\n",
       " array([60, 57, 55, 62, 56, 63, 61, 58]),\n",
       " array([67, 75, 68, 74, 73, 76, 72, 69]),\n",
       " array([84, 87, 81, 80, 85, 77, 79, 78]),\n",
       " array([96, 91, 94, 97, 92, 95, 89, 88]),\n",
       " array([106,  98, 107, 105, 103, 102,  99, 100]),\n",
       " array([112, 109, 115, 114, 110, 116, 117, 111]),\n",
       " array([123, 120, 121, 125, 119, 126, 124, 122]),\n",
       " array([132, 137, 129, 136, 130, 128, 133, 135]),\n",
       " array([146, 138, 140, 145, 143, 147, 139, 141]),\n",
       " array([156, 154, 150, 155, 157, 149, 153, 152]),\n",
       " array([161, 163, 165, 164, 159, 158, 166, 162]),\n",
       " array([168, 173, 170, 172, 176, 174, 169, 171]),\n",
       " array([180, 187, 186, 178, 184, 185, 182, 181]),\n",
       " array([189, 194, 188, 191, 196, 192, 190, 195]),\n",
       " array([203, 198, 207, 199, 205, 202, 200, 206]),\n",
       " array([216, 214, 211, 213, 217, 210, 215, 209]),\n",
       " array([220, 227, 225, 223, 224, 226, 221, 222]),\n",
       " array([237, 228, 230, 235, 231, 233, 232, 229]),\n",
       " array([240, 245, 238, 242, 239, 244, 247, 241]),\n",
       " array([252, 251, 255, 249, 256, 257, 248, 250]),\n",
       " array([260, 261, 258, 263, 267, 264, 265, 259])]"
      ]
     },
     "execution_count": 253,
     "metadata": {},
     "output_type": "execute_result"
    }
   ],
   "source": [
    "itrain"
   ]
  },
  {
   "cell_type": "markdown",
   "metadata": {},
   "source": [
    "**Note :** pour faciliter l'évaluation des modèles, vous aurez besoin de re-fusionner tous les indices d'apprentissage et de test. Cela se fait avec les lignes de code suivantes : "
   ]
  },
  {
   "cell_type": "code",
   "execution_count": 254,
   "metadata": {},
   "outputs": [],
   "source": [
    "ia = []\n",
    "# les met dans une seule liste \n",
    "for i in itrain:\n",
    "    ia += i.tolist()    \n",
    "it = []\n",
    "for i in itest:\n",
    "    it += i.tolist()"
   ]
  },
  {
   "cell_type": "markdown",
   "metadata": {},
   "source": [
    "**Note 2 :** Du fait de la permutation aléatoire, les résultats vont bouger (un peu) à chaque execution du programme. "
   ]
  },
  {
   "cell_type": "markdown",
   "metadata": {},
   "source": [
    "### C1. Questions importantes\n",
    "- Ré-utiliser les fonctions précédemment définies pour apprendre des modèles et les évaluer sans biais.\n",
    "- Calculer et analyser les résultats obtenus en apprentissage et en test\n",
    "- Etudier l'évolution des performances en fonction de la discrétisation"
   ]
  },
  {
   "cell_type": "code",
   "execution_count": 255,
   "metadata": {},
   "outputs": [
    {
     "name": "stderr",
     "output_type": "stream",
     "text": [
      "/usr/lib/python3/dist-packages/ipykernel_launcher.py:11: VisibleDeprecationWarning: Creating an ndarray from ragged nested sequences (which is a list-or-tuple of lists-or-tuples-or ndarrays with different lengths or shapes) is deprecated. If you meant to do this, you must specify 'dtype=object' when creating the ndarray\n",
      "  # This is added back by InteractiveShellApp.init_path()\n",
      "/usr/lib/python3/dist-packages/ipykernel_launcher.py:4: RuntimeWarning: divide by zero encountered in log\n",
      "  after removing the cwd from sys.path.\n",
      "/usr/lib/python3/dist-packages/ipykernel_launcher.py:9: RuntimeWarning: divide by zero encountered in log\n",
      "  if __name__ == '__main__':\n"
     ]
    }
   ],
   "source": [
    "# Votre code\n",
    "#apprentissage des modèle sur i train\n",
    "def learn_train(X,Y, ia,it):\n",
    "\n",
    "    d = 20                   # paramètre de discrétisation\n",
    "    Xd = discretise(X[ia], d)    # application de la discrétisation\n",
    "    #Xd=np.array([discretise(X[i], d) for i in range(X.shape[0])])\n",
    "    index = groupByLabel(Y[ia])  # groupement des signaux par classe\n",
    "    models = []\n",
    "    for cl in range(len(np.unique(Y[ia]))): # parcours de toutes les classes et optimisation des modèles\n",
    "        models.append(learnMarkovModel(Xd[index[cl]], d))\n",
    "    proba_ia = np.array([[probaSequence(Xd[i], models[cl][0], models[cl][1]) for i in range(len(Xd))]\n",
    "                  for cl in range(len(np.unique(Y[ia])))])\n",
    "    # calcul de la performance sur le set d'apprentissage\n",
    "    # calcul d'une version numérique des Y :\n",
    "    Ynum = np.zeros(Y[ia].shape)\n",
    "    for num, char in enumerate(np.unique(Y[ia])):\n",
    "        Ynum[Y[ia] == char] = num\n",
    "    \n",
    "    # Calcul de la classe la plus probable :\n",
    "    pred_ia = proba_ia.argmax(0) # max colonne par colonne\n",
    "\n",
    "    # Calcul d'un pourcentage de bonne classification :\n",
    "    # met à 0 les trucs différents et à 1 ceux qui ne sont égaux \n",
    "    train_perf=np.where(pred_ia != Ynum, 0.,1.).mean()\n",
    "    # calcul de la performance sur le set de test\n",
    "    Xd=Xd = discretise(X[it], d)\n",
    "    proba_it = np.array([[probaSequence(Xd[i], models[cl][0], models[cl][1]) for i in range(len(Xd))]\n",
    "                  for cl in range(len(np.unique(Y[it])))])\n",
    "\n",
    "\n",
    "    Ynum = np.zeros(Y[it].shape)\n",
    "    for num, char in enumerate(np.unique(Y[it])):\n",
    "        Ynum[Y[it] == char] = num\n",
    "    \n",
    "    # Calcul de la classe la plus probable :\n",
    "    pred_it = proba_it.argmax(0) # max colonne par colonne\n",
    "\n",
    "    # Calcul d'un pourcentage de bonne classification :\n",
    "    # met à 0 les trucs différents et à 1 ceux qui ne sont égaux \n",
    "    test_perf=np.where(pred_it != Ynum, 0.,1.).mean()\n",
    "    return train_perf,test_perf\n",
    "x,y=learn_train(X,Y, ia, it)"
   ]
  },
  {
   "cell_type": "code",
   "execution_count": 256,
   "metadata": {},
   "outputs": [
    {
     "name": "stdout",
     "output_type": "stream",
     "text": [
      "0.9423076923076923\n",
      "0.21666666666666667\n"
     ]
    }
   ],
   "source": [
    "print(x)\n",
    "print(y)"
   ]
  },
  {
   "cell_type": "code",
   "execution_count": 257,
   "metadata": {},
   "outputs": [
    {
     "data": {
      "text/plain": [
       "[<matplotlib.lines.Line2D at 0x7f9fd8583c18>]"
      ]
     },
     "execution_count": 257,
     "metadata": {},
     "output_type": "execute_result"
    },
    {
     "data": {
      "image/png": "[encoded data removed]",
      "text/plain": [
       "<Figure size 432x288 with 1 Axes>"
      ]
     },
     "metadata": {},
     "output_type": "display_data"
    }
   ],
   "source": [
    "# je mets à la main dans une liste, les valeurs de performances obtenues en réexecutant la fonction de séparation \n",
    "# à chaque fois puis je plot ça \n",
    "x=[1, 2, 3, 4, 5, 6]\n",
    "train_set=[0.9182692307692307, 0.9278846153846154, 0.9278846153846154, 0.9182692307692307, 0.9423076923076923,0.9471153846153846 ]\n",
    "test_set=[0.21666666666666667, 0.25,0.23333333333333334, 0.3,0.23333333333333334, 0.18333333333333332]\n",
    "plt.plot(x, test_set)\n",
    "plt.plot(x, train_set)"
   ]
  },
  {
   "cell_type": "markdown",
   "metadata": {},
   "source": [
    "# ce graphe permet de montrer l'ampleur du surapprentissage et de la grande différence entre les performances sur le set d'apprentissage qui sont très bonnes et sur le set de tests qui sont très mauvaises\n",
    "#### les valeurs des tableaux, sont des valeurs observées que j'ai noté pour d=20 et pour 6 exécutions"
   ]
  },
  {
   "cell_type": "markdown",
   "metadata": {},
   "source": [
    "### C2. Lutter contre le sur-apprentissage\n",
    "Cette base de données met en lumière le phénomène de sur-apprentissage : il y a peu de données et dès que le nombre d'états augmente, il y a trop peu d'exemple pour estimer correctement les matrices {$A, \\pi$}. De nombreuses cases sont donc à 0, voire des lignes entières (d'où la sécurisation du code pour la normalisation des matrices stochastiques).\n",
    "\n",
    "Ces 0 sont particulièrement discriminants: considérant la classe {$c$}, ils permettent d'éliminer de cette classe tout signal présentant cette caractéristique. Cette règle est trop forte compte tenu de la taille de la base d'apprentissage. Nous proposons une astuce pour palier cette faiblesse : lors du comptage, initialiser les matrices {$A, \\pi$} avec ones au lieu de zeros . On fait semblant d'avoir observer une transition de chaque type avant même le début du comptage.\n",
    "\n",
    "Comparer les performances en test."
   ]
  },
  {
   "cell_type": "markdown",
   "metadata": {},
   "source": [
    "# on modifie la fonction learnMArcovModel en initialisant à 1 pi et A"
   ]
  },
  {
   "cell_type": "code",
   "execution_count": 267,
   "metadata": {},
   "outputs": [
    {
     "name": "stderr",
     "output_type": "stream",
     "text": [
      "/usr/lib/python3/dist-packages/ipykernel_launcher.py:11: VisibleDeprecationWarning: Creating an ndarray from ragged nested sequences (which is a list-or-tuple of lists-or-tuples-or ndarrays with different lengths or shapes) is deprecated. If you meant to do this, you must specify 'dtype=object' when creating the ndarray\n",
      "  # This is added back by InteractiveShellApp.init_path()\n"
     ]
    }
   ],
   "source": [
    "# Votre code\n",
    "\n",
    "#retourne tuple pi, A\n",
    "def learnMarkovModel2(Xc, d):\n",
    "    #Xc: signaux d'une classe donnée\n",
    "    # votre code\n",
    "    # init\n",
    "    A=np.ones((d,d))\n",
    "    Pi=np.ones(d)\n",
    "    for i in range(Xc.shape[0]):\n",
    "        # pour pi, on regarde la premiere valeur du signal X[i,0]\n",
    "        #donne l'état initial pour la séquence i\n",
    "        indice=Xc[i][0]\n",
    "        #on rajoute 1 à celui ci\n",
    "        Pi[np.int(indice)]+=1\n",
    "        for j in range(Xc[i].shape[0]-1):\n",
    "            A[np.int(Xc[i][j]),np.int( Xc[i][j+1])]+=1\n",
    "        \n",
    "    # on normalise pi sur le nombre de séquences \n",
    "    #faire attention aux divisions par 0 ici\n",
    "    Pi=Pi/Pi.sum()\n",
    "    A=A/np.maximum(A.sum(1).reshape(d,1), 1)\n",
    "    return Pi, A \n",
    "\n",
    "# Votre code\n",
    "#apprentissage des modèle sur i train\n",
    "def learn_train2(X,Y, ia,it):\n",
    "\n",
    "    #d = 20                   # paramètre de discrétisation\n",
    "    #d=3\n",
    "    d=10\n",
    "    Xd = discretise(X[ia], d)    # application de la discrétisation\n",
    "    #Xd=np.array([discretise(X[i], d) for i in range(X.shape[0])])\n",
    "    index = groupByLabel(Y[ia])  # groupement des signaux par classe\n",
    "    models = []\n",
    "    for cl in range(len(np.unique(Y[ia]))): # parcours de toutes les classes et optimisation des modèles\n",
    "        models.append(learnMarkovModel2(Xd[index[cl]], d))\n",
    "    proba_ia = np.array([[probaSequence(Xd[i], models[cl][0], models[cl][1]) for i in range(len(Xd))]\n",
    "                  for cl in range(len(np.unique(Y[ia])))])\n",
    "    # calcul de la performance sur le set d'apprentissage\n",
    "    # calcul d'une version numérique des Y :\n",
    "    Ynum = np.zeros(Y[ia].shape)\n",
    "    for num, char in enumerate(np.unique(Y[ia])):\n",
    "        Ynum[Y[ia] == char] = num\n",
    "    \n",
    "    # Calcul de la classe la plus probable :\n",
    "    pred_ia = proba_ia.argmax(0) # max colonne par colonne\n",
    "\n",
    "    # Calcul d'un pourcentage de bonne classification :\n",
    "    # met à 0 les trucs différents et à 1 ceux qui ne sont égaux \n",
    "    train_perf=np.where(pred_ia != Ynum, 0.,1.).mean()\n",
    "    # calcul de la performance sur le set de test\n",
    "    Xd=Xd = discretise(X[it], d)\n",
    "    proba_it = np.array([[probaSequence(Xd[i], models[cl][0], models[cl][1]) for i in range(len(Xd))]\n",
    "                  for cl in range(len(np.unique(Y[it])))])\n",
    "\n",
    "\n",
    "    Ynum = np.zeros(Y[it].shape)\n",
    "    for num, char in enumerate(np.unique(Y[it])):\n",
    "        Ynum[Y[it] == char] = num\n",
    "    \n",
    "    # Calcul de la classe la plus probable :\n",
    "    pred_it = proba_it.argmax(0) # max colonne par colonne\n",
    "\n",
    "    # Calcul d'un pourcentage de bonne classification :\n",
    "    # met à 0 les trucs différents et à 1 ceux qui ne sont égaux \n",
    "    test_perf=np.where(pred_it != Ynum, 0.,1.).mean()\n",
    "    return train_perf,test_perf, pred_it, Ynum\n",
    "x,y, pred_it, Ynum=learn_train2(X,Y, ia, it)"
   ]
  },
  {
   "cell_type": "code",
   "execution_count": 268,
   "metadata": {},
   "outputs": [
    {
     "name": "stdout",
     "output_type": "stream",
     "text": [
      "0.8125\n",
      "0.6833333333333333\n"
     ]
    }
   ],
   "source": [
    "print(x)\n",
    "print(y)"
   ]
  },
  {
   "cell_type": "markdown",
   "metadata": {},
   "source": [
    "# Nous observons que les performances en tests sont meilleures avec cette initialisation à 1, car on n'ignore pas certaines configurations par manque de données"
   ]
  },
  {
   "cell_type": "markdown",
   "metadata": {},
   "source": [
    "# recalculuer les évaluations"
   ]
  },
  {
   "cell_type": "markdown",
   "metadata": {},
   "source": [
    "## D. Evaluation qualitative\n",
    "\n",
    "Nous nous demandons maintenant où se trouvent les erreurs que nous avons commises...\n",
    "\n",
    "Calcul de la matrice de confusion: pour chaque échantillon de test, nous avons une prédiction (issue du modèle) et une vérité terrain (la vraie étiquette). En posant Nc le nombre de classes, la matrice de confusion est une matrice (Nc x Nc) où nous comptons le nombre d'échantillon de test dans chaque catégorie :\n",
    "\n",
    "- Initialisation à 0 : "
   ]
  },
  {
   "cell_type": "code",
   "execution_count": 269,
   "metadata": {},
   "outputs": [],
   "source": [
    "conf = np.zeros((26,26))"
   ]
  },
  {
   "cell_type": "markdown",
   "metadata": {},
   "source": [
    "- Pour chaque échantillon, incrément de la case (prediction, vérité)"
   ]
  },
  {
   "cell_type": "code",
   "execution_count": 270,
   "metadata": {},
   "outputs": [
    {
     "name": "stdout",
     "output_type": "stream",
     "text": [
      "(60,)\n",
      "(60,)\n",
      "(60,)\n"
     ]
    }
   ],
   "source": [
    "# Votre code\n",
    "# on travaille sur le test set\n",
    "# on utilise pred_it et y correspondant au test set ( Ynum)\n",
    "\n",
    "d=20\n",
    "#train_set=discretise(X[it],d)\n",
    "#Y_test=Y[it]\n",
    "print(Y_test.shape)\n",
    "#print(Y_test.shape[0])\n",
    "#for i in range(Y_test.shape[O] ):\n",
    "print(Ynum.shape)\n",
    "print(pred_it.shape)\n",
    "for i in range(60):\n",
    "    conf[np.int(Ynum[i]), np.int(pred_it[i])]+=1"
   ]
  },
  {
   "cell_type": "markdown",
   "metadata": {},
   "source": [
    "- Tracé de la matrice : "
   ]
  },
  {
   "cell_type": "markdown",
   "metadata": {},
   "source": [
    "### plt.figure()\n",
    "plt.imshow(conf, interpolation = 'nearest')\n",
    "plt.colorbar()\n",
    "plt.xticks(np.arange(26), np.unique(Y))\n",
    "plt.yticks(np.arange(26), np.unique(Y))\n",
    "plt.xlabel(u'Vérité terrain')\n",
    "plt.ylabel(u'Prédiction')\n",
    "#plt.savefig(\"mat_conf_lettres.png\")"
   ]
  },
  {
   "cell_type": "markdown",
   "metadata": {},
   "source": [
    "## E. Modèle génératif\n",
    "\n",
    "Utiliser les modèles appris pour générer de nouvelles lettres manuscrites.\n",
    "\n",
    "### E1. Tirage selon une loi de probabilité discrète\n",
    "\n",
    "- faire la somme cumulée de la loi {$sc$}\n",
    "- tirer un nombre aléatoire {$t$} entre 0 et 1\n",
    "- trouver la première valeur de {$sc$} qui est supérieure à {$t$}\n",
    "- retourner cet état \n",
    "\n",
    "**Note :** comme vu en cours, tout repose sur la somme cumulée (notée ici `sc$`, calculable en appelant `np.cumsum`. Sur un exemple: la loi `V = [0.2, 0.4, 0.3, 0.1]` a pour somme cumulée `V.cumsum() == [0.2,  0.6,  0.9,  1.0]`\n",
    "\n",
    "### E2. Génération d'une séquence de longueur N\n",
    "\n",
    "- tirer un état {$s_0$} selon Pi\n",
    "- tant que la longueur n'est pas atteinte :\n",
    "  - tirer un état {$s_{t+1}$} selon {$A[s_{t}]$} "
   ]
  },
  {
   "cell_type": "code",
   "execution_count": 275,
   "metadata": {},
   "outputs": [],
   "source": [
    "# Votre code\n",
    "# E1\n",
    "import random\n",
    "def tirage( sc):\n",
    "    #somme cumulée\n",
    "    cum_sum=sc.cumsum()\n",
    "    val=random.random()\n",
    "    i=0\n",
    "    while(val>cum_sum[i]):\n",
    "        i+=1\n",
    "    return i\n",
    "# E2\n",
    "def generate(Pi, A,N):\n",
    "    state=tirage(Pi)\n",
    "    s=[state]\n",
    "    for i in range(1,N):\n",
    "        s.append(tirage(A[s[i-1]]))\n",
    "    return s"
   ]
  },
  {
   "cell_type": "markdown",
   "metadata": {},
   "source": [
    "### E3. Affichage du résultat"
   ]
  },
  {
   "cell_type": "code",
   "execution_count": 276,
   "metadata": {},
   "outputs": [
    {
     "data": {
      "image/png": "[encoded data removed]",
      "text/plain": [
       "<Figure size 432x288 with 1 Axes>"
      ]
     },
     "metadata": {},
     "output_type": "display_data"
    }
   ],
   "source": [
    "newa = generate(models[0][0], models[0][1], 20)       # generation d'une séquence d'états\n",
    "intervalle = 360. / d                                 # pour passer des états => valeur d'angles\n",
    "newa_continu = np.array([i * intervalle for i in newa]) # conv int => double\n",
    "tracerLettre(newa_continu)"
   ]
  },
  {
   "cell_type": "code",
   "execution_count": null,
   "metadata": {},
   "outputs": [],
   "source": []
  }
 ],
 "metadata": {
  "kernelspec": {
   "display_name": "Python 3",
   "language": "python",
   "name": "python3"
  },
  "language_info": {
   "codemirror_mode": {
    "name": "ipython",
    "version": 3
   },
   "file_extension": ".py",
   "mimetype": "text/x-python",
   "name": "python",
   "nbconvert_exporter": "python",
   "pygments_lexer": "ipython3",
   "version": "3.6.9"
  }
 },
 "nbformat": 4,
 "nbformat_minor": 4
}
