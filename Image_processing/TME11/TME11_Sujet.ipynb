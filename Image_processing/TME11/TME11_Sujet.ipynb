{
 "cells": [
  {
   "cell_type": "markdown",
   "metadata": {},
   "source": [
    "# TME 11: représentation d'objets"
   ]
  },
  {
   "cell_type": "code",
   "execution_count": 1,
   "metadata": {},
   "outputs": [
    {
     "ename": "ModuleNotFoundError",
     "evalue": "No module named 'pyanac'",
     "output_type": "error",
     "traceback": [
      "\u001b[0;31m---------------------------------------------------------------------------\u001b[0m",
      "\u001b[0;31mModuleNotFoundError\u001b[0m                       Traceback (most recent call last)",
      "\u001b[0;32m<ipython-input-1-7ad3c66346ff>\u001b[0m in \u001b[0;36m<module>\u001b[0;34m()\u001b[0m\n\u001b[1;32m      1\u001b[0m \u001b[0;32mfrom\u001b[0m \u001b[0mpylab\u001b[0m \u001b[0;32mimport\u001b[0m \u001b[0;34m*\u001b[0m\u001b[0;34m\u001b[0m\u001b[0;34m\u001b[0m\u001b[0m\n\u001b[1;32m      2\u001b[0m \u001b[0;32mfrom\u001b[0m \u001b[0mPIL\u001b[0m \u001b[0;32mimport\u001b[0m \u001b[0mImage\u001b[0m\u001b[0;34m\u001b[0m\u001b[0;34m\u001b[0m\u001b[0m\n\u001b[0;32m----> 3\u001b[0;31m \u001b[0;32mfrom\u001b[0m \u001b[0mpyanac\u001b[0m \u001b[0;32mimport\u001b[0m \u001b[0;34m*\u001b[0m\u001b[0;34m\u001b[0m\u001b[0;34m\u001b[0m\u001b[0m\n\u001b[0m\u001b[1;32m      4\u001b[0m \u001b[0;32mfrom\u001b[0m \u001b[0mscipy\u001b[0m\u001b[0;34m.\u001b[0m\u001b[0msignal\u001b[0m \u001b[0;32mimport\u001b[0m \u001b[0mconvolve2d\u001b[0m\u001b[0;34m\u001b[0m\u001b[0;34m\u001b[0m\u001b[0m\n\u001b[1;32m      5\u001b[0m \u001b[0;34m\u001b[0m\u001b[0m\n",
      "\u001b[0;31mModuleNotFoundError\u001b[0m: No module named 'pyanac'"
     ]
    }
   ],
   "source": [
    "from pylab import *\n",
    "from PIL import Image\n",
    "from pyanac import *\n",
    "from scipy.signal import convolve2d\n",
    "\n",
    "atlas = array(Image.open(\"img/atlas.png\"))\n",
    "irm = array(Image.open(\"img/irm.png\"))"
   ]
  },
  {
   "cell_type": "markdown",
   "metadata": {},
   "source": [
    "## Exercice 1: segmentation du crâne et de la matière blanche\n",
    "1. Identifier visuellement chaque région de l'image `img/irm.png` en se référant à l’atlas donné en TD et disponible comme image `img/atlas.png`. À l’aide de la fonction `imshow()` en mode notebook (voir la première ligne du code python ci-dessous), inspecter à la souris chaque région et relever les niveaux de gris moyens de l'os, de la matière noire, de la matière blanche et du liquide céphalo-rachidien."
   ]
  },
  {
   "cell_type": "code",
   "execution_count": 3,
   "metadata": {
    "scrolled": true
   },
   "outputs": [],
   "source": [
    "%matplotlib notebook\n",
    "#code: (affichage des images atlas et IMR)\n"
   ]
  },
  {
   "cell_type": "markdown",
   "metadata": {},
   "source": [
    "2. Essayer d’isoler la région de l'os crânien en utilisant un seuillage adapté. \n",
    "   Conseil : on peut, de façon facultative, prétraiter l'image avec un filtre moyenneur, ceci pour permettre d'obtenir une région plus régulière après le seuillage. Contrôler le résultat en affichant l'image, cette fois en mode `inline`.\n"
   ]
  },
  {
   "cell_type": "code",
   "execution_count": 4,
   "metadata": {},
   "outputs": [],
   "source": [
    "%matplotlib inline\n",
    "# code:\n"
   ]
  },
  {
   "cell_type": "markdown",
   "metadata": {},
   "source": [
    "3. Un seuillage haut permet d'isoler le crâne de façon satisfaisante mais on obtient également des régions non désirables (la matière blanche en particulier). Avec la fonction `anac()`, extraire les contours des régions. Puis avec un appel bien paramétré à la fonction `fillc()` reconstruire une image du crâne sans les régions parasites. On appelera cette image `region1`."
   ]
  },
  {
   "cell_type": "code",
   "execution_count": null,
   "metadata": {},
   "outputs": [],
   "source": []
  },
  {
   "cell_type": "markdown",
   "metadata": {},
   "source": [
    "5. Avec une stratégie similaire, écrire un code python qui génère deux images de la matière blanche, chaque image correspondant à l’un des deux hémisphères du cerveau. On les appellera ces images `region2` et `region3`."
   ]
  },
  {
   "cell_type": "code",
   "execution_count": null,
   "metadata": {},
   "outputs": [],
   "source": []
  },
  {
   "cell_type": "markdown",
   "metadata": {},
   "source": [
    "## Exercice 2: segmentation de la matière grise\n",
    "La segmentation de la matière grise nécessite également la combinaison d’un seuillage bas et l’élimination de régions parasites.\n",
    "1. Commencer par trouver une valeur pour un seuillage bas qui soit visuellement correct. Proposer deux valeurs possibles de seuil bas :\n",
    "    - une première valeur qui segmente la matière grise en une seule région.\n",
    "    - une seconde valeur qui segmente la matière grise en deux régions, chaque région correspondant à un hémisphère.\n",
    "    - commenter la régularité des régions obtenues pour chacune de ses deux segmentations."
   ]
  },
  {
   "cell_type": "code",
   "execution_count": null,
   "metadata": {},
   "outputs": [],
   "source": []
  },
  {
   "cell_type": "markdown",
   "metadata": {},
   "source": [
    "Vos commentaires ici:\n",
    "\n",
    "xxxx\n"
   ]
  },
  {
   "cell_type": "markdown",
   "metadata": {},
   "source": [
    "2. Compléter la chaîne de traitement de façon à éliminer le crâne de l'image ainsi que les autres régions parasites. Générer:\n",
    "    - une image binaire `MG` qui contient une unique région de matière grise.\n",
    "    - une image binaire `region4` qui décrit la matière grise de l'hémisphère droit.\n",
    "    - une image binaire `region5` qui décrit la matière grise de l’hémisphère gauche.\n"
   ]
  },
  {
   "cell_type": "code",
   "execution_count": null,
   "metadata": {},
   "outputs": [],
   "source": []
  },
  {
   "cell_type": "markdown",
   "metadata": {},
   "source": [
    "## Exercice 3: segmentation du liquide céphalorachidien\n",
    "Pour obtenir la région LCR, on procède indirectement, en considérant que c’est la région comprise entre la paroi intracrânienne et la matière grise.\n",
    "1. À partir du fichier de contour obtenu dans l’exercice 1, générer une image binaire `intra` de la cavité intracrânienne."
   ]
  },
  {
   "cell_type": "code",
   "execution_count": null,
   "metadata": {},
   "outputs": [],
   "source": []
  },
  {
   "cell_type": "markdown",
   "metadata": {},
   "source": [
    "2. Générer une image binaire `MG` de la matière grise la plus régulière possible."
   ]
  },
  {
   "cell_type": "code",
   "execution_count": null,
   "metadata": {},
   "outputs": [],
   "source": []
  },
  {
   "cell_type": "markdown",
   "metadata": {},
   "source": [
    "3. Enfin, écrire un code qui génère l’image binaire `LCR` obtenue par soustraction des deux images précédentes."
   ]
  },
  {
   "cell_type": "code",
   "execution_count": null,
   "metadata": {},
   "outputs": [],
   "source": []
  },
  {
   "cell_type": "markdown",
   "metadata": {},
   "source": [
    "## Exercice 4 : reconnaissance des régions\n",
    "\n",
    "Les exercices précédents ont permit de décomposer l’image IRM en plusieurs images (`region1`, ..., `region5`) chacune contenant une région particulière. Nous essayons maintenant de reconnaître ces régions, c’est-à-dire de les mettre en correspondance avec celles de l’atlas.\n",
    "\n",
    "1. La première étape consiste à trouver un descripteur simple et suffisant pour caractériser chaque région. On se propose de calculer la taille et le centre de gravité d’une région, une région étant l’ensemble des pixels d’une certaine couleur dans l’image. Écrire une fonction `statsreg()` qui prend une image `I`, une valeur `c` de niveau de gris et retourne un tuple constitué de la taille (nombre de pixels) et des coordonnées du centre de gravité de la région ayant la couleur `c`."
   ]
  },
  {
   "cell_type": "code",
   "execution_count": null,
   "metadata": {},
   "outputs": [],
   "source": [
    "def statsreg(I, c):\n",
    "    \"\"\" array*int -> tuple(int,int,int)\"\"\"\n",
    "\n",
    "## vérification\n",
    "assert statsreg(atlas,140) == (20734, 164, 184)\n"
   ]
  },
  {
   "cell_type": "markdown",
   "metadata": {},
   "source": [
    "2. On rappelle que l'atlas, qui a été construit en TD, possède 5 régions (voir le dictionnaire `nomregions` ci-dessous). Visualiser cette image et rappeler quel niveau de gris correspond à quelle région. En déduire un dictionnaire `atlasLabel` donc les clés sont les noms des régions `'mgd'`, `'mgg'`, `'mbd'`, `'mbg'`, `'crane'` et les valeurs associées les niveaux de gris dans l'atlas."
   ]
  },
  {
   "cell_type": "code",
   "execution_count": 8,
   "metadata": {},
   "outputs": [],
   "source": [
    "nomsregions = {'mgd':'Matière grise hémisphère droit',\n",
    "               'mgg':'Matière grise hémisphère gauche',\n",
    "               'mbd':'Matière blanche hémisphère droit',\n",
    "               'mbg':'Matière blanche hémisphère gauche',\n",
    "               'crane':'Crâne'\n",
    "              }\n",
    "\n",
    "## code:\n",
    "atlasLabel = { ... }"
   ]
  },
  {
   "cell_type": "markdown",
   "metadata": {},
   "source": [
    "3. Utiliser la fonction `statsreg()` pour établir les statistiques des cinq régions de l'atlas en donnant les noms des régions. "
   ]
  },
  {
   "cell_type": "code",
   "execution_count": null,
   "metadata": {},
   "outputs": [],
   "source": []
  },
  {
   "cell_type": "markdown",
   "metadata": {},
   "source": [
    "3. Utiliser la fonction `statsreg()` pour établir les statistiques des cinq régions extraites de l’image `irm`."
   ]
  },
  {
   "cell_type": "code",
   "execution_count": null,
   "metadata": {},
   "outputs": [],
   "source": []
  },
  {
   "cell_type": "markdown",
   "metadata": {},
   "source": [
    "4. Proposer une méthode pour renommer les cinq images `region[1-5]` avec les noms suivants :\n",
    "`crane`, `mgg`, `mgd`, `mbg` et `mbd`."
   ]
  },
  {
   "cell_type": "code",
   "execution_count": 106,
   "metadata": {},
   "outputs": [],
   "source": []
  },
  {
   "cell_type": "markdown",
   "metadata": {},
   "source": [
    "5. Comment construire la région `lcr`?"
   ]
  },
  {
   "cell_type": "code",
   "execution_count": null,
   "metadata": {},
   "outputs": [],
   "source": []
  }
 ],
 "metadata": {
  "kernelspec": {
   "display_name": "Python 3",
   "language": "python",
   "name": "python3"
  }
 },
 "nbformat": 4,
 "nbformat_minor": 2
}
