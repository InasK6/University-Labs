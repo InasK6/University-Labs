{
 "cells": [
  {
   "cell_type": "markdown",
   "metadata": {},
   "source": [
    "# TME 10 : Compression d'images avec le codage de Huffman\n",
    "> Consignes: le fichier **TME10_Sujet.ipynb** est à déposer sur le site Moodle de l'UE https://moodle-sciences.upmc.fr/moodle-2019/course/view.php?id=4248. Si vous êtes en binôme, renommez-le en **TME10_nom1_nom2.ipynb**.\n",
    "\n",
    "N'oubliez pas de sauvegarder fréquemment votre notebook !! ...\n",
    "\n",
    "Pour chaque questions, écrivez des commentaires brefs et concis lorsque demandé dans les cases **Réponse**."
   ]
  },
  {
   "cell_type": "code",
   "execution_count": 12,
   "metadata": {},
   "outputs": [],
   "source": [
    "# Chargement des modules et fonctions utiles.\n",
    "from PIL import Image\n",
    "import matplotlib.pyplot as plt\n",
    "import numpy as np\n",
    "\n",
    "from pylab import *\n",
    "\n",
    "\n",
    "def affichage_14(affichages,titres=None, axis=True):\n",
    "    # effectue entre 1 et 4 affichages avec leurs titres, pour des images ou courbes\n",
    "    \n",
    "    # paramètres :\n",
    "    #  - liste des affichages (entre 1 et 4)\n",
    "    #  - liste des titres (entre 1 et 4, autant que de affichages) Optionnelle\n",
    "    \n",
    "    if not type(affichages) == type([]):\n",
    "        affichages = [affichages]\n",
    "        \n",
    "    if titres is None:\n",
    "        titres = ['',]*len(affichages)\n",
    "        \n",
    "    if not type(titres) == type([]):\n",
    "        titres = [titres]\n",
    "    \n",
    "    nb_affichages = len(affichages)\n",
    "    if nb_affichages >4 or nb_affichages < 1 :\n",
    "        raise ValueError('affichage_14 nécéssite 1 à 4 entrées en paramètre')        \n",
    "        \n",
    "    if nb_affichages != len(titres):\n",
    "        raise ValueError('affichage_14 nécéssite autant de titres que d\\'affichages')\n",
    "        \n",
    "    courbes = False\n",
    "    for i in range(0,nb_affichages):\n",
    "        s = plt.subplot(101+10*nb_affichages+i)\n",
    "        s.set_title(titres[i])\n",
    "        if len(affichages[i].shape)>=2 and affichages[i].shape[0] > 1 and affichages[i].shape[1] > 1:\n",
    "            # on affiche une image\n",
    "            s.imshow(affichages[i], cmap=\"gray\",interpolation='nearest', aspect='equal')\n",
    "        else :\n",
    "            # il s'agit d'une seule ligne, à afficher comme une courbe\n",
    "            plt.plot(affichages[i])\n",
    "            courbes=True\n",
    "        # ne pas afficher les axes si demandé\n",
    "        if not axis:\n",
    "            plt.axis('off')\n",
    "\n",
    "    agrandissement_h = nb_affichages\n",
    "    agrandissement_v = nb_affichages*2 if courbes else nb_affichages\n",
    "    params = plt.gcf()\n",
    "    plSize = params.get_size_inches()\n",
    "    params.set_size_inches( (plSize[0]*agrandissement_v, plSize[1]*agrandissement_h) )\n",
    "    plt.show()\n",
    "\n",
    "def litbit(s,b):\n",
    "    \"\"\" bytearray*int->str\n",
    "        lit la valeur du bit b dans la table d'octets s\n",
    "        et retourne '1' ou '0'\n",
    "    \"\"\"\n",
    "    byte , bit = b//8 , 7-b%8\n",
    "    if s[byte] & (1<<bit):\n",
    "        return '1'\n",
    "    else:\n",
    "        return '0'\n",
    "\n",
    "def ecritbit(s,b,val):\n",
    "    \"\"\" bytearray*int*str -> NoneType\n",
    "        len(str) == 1\n",
    "        écrit la valeur du bit b dans la table d'octets s\n",
    "    \"\"\"\n",
    "    byte , bit = b // 8 , 7 - b % 8\n",
    "    if val == '1':\n",
    "        s[byte] = s[byte] | (1<<bit)\n",
    "    else:\n",
    "        s[byte] = s[byte] & ~(1<<bit)"
   ]
  },
  {
   "cell_type": "markdown",
   "metadata": {},
   "source": [
    "## Calcul d'entropie sur des images\n",
    "\n",
    "Considérons un ensemble d'images en nuances de gris, notre source, et considérons la valeur de leurs pixels comme une variable aléatoire X ($X\\in[0,255]$ la plus-part du temps).\n",
    "On va dans un premier temps calculer l'entropie de X pour différentes sources, i.e différents groupes d'images.\n",
    "\n",
    "### Question 1 :\n",
    "1. Charger plusieurs images dans des tableaux ```np.array()``` dont une image binaire (par exemple ``rectangle.png``), puis affichez-les (on pourra grouper les images par groupe de 4 maximum et utiliser la fonction ```affichage_14()```).\n",
    "\n",
    "2. Calculer l'entropie pour chaque image (une image est vue comme la réalisation d'une variable aléatoire, et donc une suite de symboles). Indication: utiliser la fonction ``np.histogram(img,256)`` du module Numpy. \n",
    "\n",
    "3. Quelle différence y a-t-il entre l'entropie de l'image binaire et celle des images non binaires ? Pourquoi ?"
   ]
  },
  {
   "cell_type": "markdown",
   "metadata": {},
   "source": [
    "### Reponse 1.1\n",
    "chargement d'images fournies dans les TMEs précédents chacune dans un tableau numpy"
   ]
  },
  {
   "cell_type": "code",
   "execution_count": 68,
   "metadata": {},
   "outputs": [],
   "source": [
    "## Images en niveau de gris\n",
    "bur = np.array(Image.open('images/bureau.png'))\n",
    "cam= np.array(Image.open('images/cameraman.png'))\n",
    "cible= np.array(Image.open('images/cible.png'))\n",
    "couloir= np.array(Image.open('images/couloir.png'))\n",
    "jussieu= np.array(Image.open('images/Jussieu_wikipedia.jpg'))\n",
    "lune= np.array(Image.open('images/Lune.png'))\n",
    "## Image en couleur\n",
    "lena= np.array(Image.open('images/lena.png'))\n",
    "## Images binaires\n",
    "chaise =np.array(Image.open('images/chaise.png'))\n",
    "rectangle = np.array(Image.open('images/rectangle.png'))"
   ]
  },
  {
   "cell_type": "code",
   "execution_count": 69,
   "metadata": {},
   "outputs": [
    {
     "name": "stdout",
     "output_type": "stream",
     "text": [
      "L\n",
      "RGB\n",
      "L\n",
      "L\n"
     ]
    },
    {
     "data": {
      "text/plain": [
       "65536"
      ]
     },
     "execution_count": 69,
     "metadata": {},
     "output_type": "execute_result"
    }
   ],
   "source": [
    "## verification des types des images\n",
    "print(Image.open('images/cameraman.png').mode)\n",
    "print(Image.open('images/lena.png').mode)\n",
    "print(Image.open('images/chaise.png').mode)\n",
    "print(Image.open('images/rectangle.png').mode)\n",
    "\n",
    "cam.size\n",
    "#shape(cam)"
   ]
  },
  {
   "cell_type": "markdown",
   "metadata": {},
   "source": [
    "### Réponse 1.2\n",
    "#### Calcul de l'entropie, il faut rajouter 1O⁻⁶ à toutes les valeurs de l'histogramme pour car log est non défini en 0 et la valeur 10-6 reste négligeable "
   ]
  },
  {
   "cell_type": "code",
   "execution_count": 70,
   "metadata": {},
   "outputs": [],
   "source": [
    "def Entropy(img):\n",
    "    size=img.size\n",
    "    his, b=np.histogram(img, 256)\n",
    "    hisnorm=his/np.double(size)\n",
    "    # le - sert à faire en sorte que res soit positif car log prend des valeurs négatives dans ]0, 1[\n",
    "    # on divise sur 2 pour avoir log_2\n",
    "    \n",
    "    part=- np.log2(hisnorm+1e-10)* hisnorm\n",
    "    res=part.sum()\n",
    "    \n",
    "    return res\n",
    "    "
   ]
  },
  {
   "cell_type": "markdown",
   "metadata": {},
   "source": [
    "### Tests"
   ]
  },
  {
   "cell_type": "code",
   "execution_count": 72,
   "metadata": {},
   "outputs": [
    {
     "name": "stdout",
     "output_type": "stream",
     "text": [
      "[6.905430406782132, 7.0097162477109505, 7.258517312809456, 6.083237531330941, 7.414992555496973, 5.020158043726478]\n",
      "[3.6261285340626728, 0.5934730425386324]\n",
      "7.75019744324298\n"
     ]
    }
   ],
   "source": [
    "tab1=[bur, cam, cible, couloir, jussieu, lune ]\n",
    "tab2=[chaise, rectangle]\n",
    "print([Entropy(tab1[i]) for i in range(len(tab1))])\n",
    "print([Entropy(tab2[i]) for i in range(len(tab2))])\n",
    "print(Entropy(lena))"
   ]
  },
  {
   "cell_type": "markdown",
   "metadata": {},
   "source": [
    "### Réponse 1.3\n"
   ]
  },
  {
   "cell_type": "markdown",
   "metadata": {},
   "source": [
    "On remarque que l'entropie des images binaire est très petites comparée à celle des images en couleur ou en niveau de gris, ceci est logique car une image binaire n'a comme valeurs que des 0 et des 1, donc c'est du à la présence de deux valeurs possibles seulement donc bien évidemment,on code les pixel d'une image binaire sur un bit et on ne peut pas faire mieux ou pire \n",
    "Conclusion: \n",
    "la compression est plus utile appliquée à des images non binaires"
   ]
  },
  {
   "cell_type": "markdown",
   "metadata": {},
   "source": [
    "## Encodage des pixels avec le code de Huffman\n",
    "On suppose ici connaître la dimension des images (donc leur nombre de pixels et leur nombre de lignes), et on souhaite encoder ces images en séquences binaires les plus compactes possibles.\n",
    "On va pour cela utiliser le codage de Huffman.\n",
    "\n",
    "### Question 2\n",
    "1. Écrire la fonction ``huffman()`` vue  en TD. "
   ]
  },
  {
   "cell_type": "code",
   "execution_count": 87,
   "metadata": {},
   "outputs": [],
   "source": [
    "# type Noeud = tuple[int,float,list[Noeud]]\n",
    "# hisn: histogramme normalisé de l'image qu'on veut coder\n",
    "def huffman(hisn):\n",
    "    \"\"\" Array[float] -> Noeud\n",
    "        construit l'arbre de huffman correspondant a\n",
    "        l'histogramme normalise hisn et retourne la racine.\n",
    "    \"\"\"\n",
    "    # construction d'un tableau de noeuds en retirant les valeurs de pourcentage nulles\n",
    "    vp=[(i, hisn[i],[]) for i in range( hisn.size) if hisn[i]>0]\n",
    "    while(len(vp)>1):\n",
    "        #tri des noeuds par probabilité d'apparition croissante\n",
    "        #ce tri doit se faire à chaque itération car on rajoute un nouveau noeud avec une nouvelle proba à chaque noeud\n",
    "        vp=sorted(vp, key=lambda x:x[1])\n",
    "        b0, b1=vp[0], vp[1]\n",
    "        vp=vp[2:]\n",
    "        \n",
    "        # on attribue - 1 comme niveau de gris aux noeuds intermédiaires\n",
    "        vp.append((-1, b0[1]+b1[1], [b0, b1]))\n",
    "        #l'algorithme termine bien car à chaque itération on retire deux noeud et on en rajoute un seul\n",
    "    return vp\n",
    "        \n",
    "        "
   ]
  },
  {
   "cell_type": "markdown",
   "metadata": {},
   "source": [
    "2. Testez la sur l'exemple du TD en imprimant l'arbre."
   ]
  },
  {
   "cell_type": "code",
   "execution_count": 92,
   "metadata": {},
   "outputs": [
    {
     "name": "stdout",
     "output_type": "stream",
     "text": [
      "[(-1, 1.0, [(-1, 0.4157550235730306, [(0, 0.18379335072702582, []), (-1, 0.23196167284600477, [(-1, 0.09897621336262796, [(-1, 0.04824461024396942, [(-1, 0.01177888649852764, [(255, 0.002715857249660518, []), (219, 0.009063029248867122, [])]), (73, 0.03646572374544178, [])]), (36, 0.05073160311865855, [])]), (109, 0.1329854594833768, [])])]), (-1, 0.5842449764269694, [(182, 0.2860499534642438, []), (146, 0.2981950229627256, [])])])]\n"
     ]
    }
   ],
   "source": [
    "histo_td = np.zeros(256)\n",
    "for v,f in [(0,12046),(36,3325),(73,2390),(109,8716),(146,19544),(182,18748),(219,594),(255,178)]:\n",
    "    histo_td[v] = f/65541\n",
    "### je divise sur 65541 pour avoir les probabilité \\in [0, 1]\n",
    "racine=huffman(histo_td)\n",
    "print(racine)"
   ]
  },
  {
   "cell_type": "markdown",
   "metadata": {},
   "source": [
    "## Remarque\n",
    "le résultat correspond bien à celui obtenu en TD"
   ]
  },
  {
   "cell_type": "markdown",
   "metadata": {},
   "source": [
    "### Question 3\n",
    "1. Écrire la fonction ```hufftable()``` vu en TD."
   ]
  },
  {
   "cell_type": "code",
   "execution_count": 90,
   "metadata": {},
   "outputs": [],
   "source": [
    "\n",
    "#fonction intermédiaire litcode interne, fonction récursive\n",
    "#table représente pour chaque valeur de l'image son code associé\n",
    "def hufftable(racine):\n",
    "    \"\"\" Noeud -> dict[int,str] \"\"\"\n",
    "    def litcode(nd, code):\n",
    "        \"\"\"Noeud*str-> NoneType\"\"\"\n",
    "        val, p, fils=nd\n",
    "        if(len(fils)>0):\n",
    "            #var temporaire\n",
    "            cp=code\n",
    "            litcode(fils[0], code+'0')\n",
    "            code=cp\n",
    "            litcode(fils[1], code+'1')\n",
    "        else:\n",
    "        \n",
    "            table[val]=code\n",
    "            # appel de la routine del pour détruire l'arbre au fur et à mesure lors du dépilement\n",
    "            del nd\n",
    "    #création du dictionnaire de codes\n",
    "    table=dict()\n",
    "    litcode(racine,'')\n",
    "    return table\n",
    "\n",
    "    "
   ]
  },
  {
   "cell_type": "markdown",
   "metadata": {},
   "source": [
    "2. Tester la sur l'arbre calculé précédemment et afficher la table"
   ]
  },
  {
   "cell_type": "code",
   "execution_count": 94,
   "metadata": {},
   "outputs": [
    {
     "data": {
      "text/plain": [
       "{0: '00',\n",
       " 36: '0101',\n",
       " 73: '01001',\n",
       " 109: '011',\n",
       " 146: '11',\n",
       " 182: '10',\n",
       " 219: '010001',\n",
       " 255: '010000'}"
      ]
     },
     "execution_count": 94,
     "metadata": {},
     "output_type": "execute_result"
    }
   ],
   "source": [
    "hufftable(racine[0])"
   ]
  },
  {
   "cell_type": "markdown",
   "metadata": {},
   "source": [
    "## Remarque\n",
    "Le résultat correspond bien à celui trouvé en TD"
   ]
  },
  {
   "cell_type": "markdown",
   "metadata": {},
   "source": [
    "### Question 4\n",
    "1. Écrire la fonction ``encode()`` vue en TD."
   ]
  },
  {
   "cell_type": "code",
   "execution_count": null,
   "metadata": {},
   "outputs": [],
   "source": [
    "def encode(img,table):\n",
    "    \"\"\" Array[int] * dict[int,str] -> tuple[bytearray,int]\n",
    "        Encode l'image img selon la table de Huffman table\n",
    "        retourne un tableau d'octets et la véritable longueur\n",
    "        en bit des données encodés\n",
    "    \"\"\"\n"
   ]
  },
  {
   "cell_type": "markdown",
   "metadata": {},
   "source": [
    "2. Tester la sur la portion d'image utilisée en TD. Afficher la taille en bit avant et après encodage."
   ]
  },
  {
   "cell_type": "code",
   "execution_count": null,
   "metadata": {},
   "outputs": [],
   "source": [
    "img_td = np.array([\n",
    "    [109, 182, 109, 109, 219, 109, 146, 182], \n",
    "    [146, 219, 182, 182, 255, 219, 219, 182],\n",
    "    [219, 219, 219, 219, 219, 219, 219, 182],\n",
    "    [36, 182, 73, 73, 219, 73, 109, 182], \n",
    "    [36, 146, 73, 73, 182, 73, 109, 182],\n",
    "    [36, 109, 73, 73, 109, 73, 146, 182],\n",
    "    [73, 36, 36, 36, 182, 146, 182, 182],\n",
    "    [182, 146, 146, 146, 182, 182, 182, 182]\n",
    "],dtype=int)\n"
   ]
  },
  {
   "cell_type": "markdown",
   "metadata": {},
   "source": [
    "3. Écrire une fonction ``print_encode()`` qui imprime le tampon encodé sous la forme d'une suite de caractères '0' et\n",
    "'1'. Tester la sur l'exemple précédent."
   ]
  },
  {
   "cell_type": "code",
   "execution_count": null,
   "metadata": {},
   "outputs": [],
   "source": [
    "def print_encoded( encoded, l):\n",
    "    \"\"\" bytearray*int->str\"\"\"\n",
    "    "
   ]
  },
  {
   "cell_type": "markdown",
   "metadata": {},
   "source": [
    "### Question 5\n",
    "1. Écrire le code de la fonction ```decode()``` vu en TD."
   ]
  },
  {
   "cell_type": "code",
   "execution_count": null,
   "metadata": {},
   "outputs": [],
   "source": [
    "def decode(encoded,shape,table):\n",
    "    \"\"\" bytearray*tuple[int,int]*dict[int,str]->Array[int]\n",
    "        decode une image de huffman\n",
    "    \"\"\""
   ]
  },
  {
   "cell_type": "markdown",
   "metadata": {},
   "source": [
    "2. Tester la sur la portion d''image précédemment encodée et vérifier qu'elle est bien égale à la portion d'image originale."
   ]
  },
  {
   "cell_type": "code",
   "execution_count": null,
   "metadata": {},
   "outputs": [],
   "source": []
  },
  {
   "cell_type": "markdown",
   "metadata": {},
   "source": [
    "### Question 5: expérimentations\n",
    "\n",
    "1. Vérifier, pour les trois images, que la compression huffman fonctionne correctement\n",
    "\n",
    "2. On définit le taux de compression d'une image par : *1 - (taille_bit_code / taille_bit_image) %* Calculez les taux de compression des trois images. Commentez.  \n",
    " \n",
    "3. Quel serait le taux de compression d'une image avec pixels aléatoires de loi uniforme [0,255] ? Quel est le lien avec la valeur de l'entropie des pixels ?"
   ]
  },
  {
   "cell_type": "code",
   "execution_count": null,
   "metadata": {},
   "outputs": [],
   "source": [
    "# Réponse questions 5.1 et 5.2\n"
   ]
  },
  {
   "cell_type": "markdown",
   "metadata": {},
   "source": [
    "**Réponse question 5.3**"
   ]
  }
 ],
 "metadata": {
  "anaconda-cloud": {},
  "kernelspec": {
   "display_name": "Python 3",
   "language": "python",
   "name": "python3"
  },
  "language_info": {
   "codemirror_mode": {
    "name": "ipython",
    "version": 3
   },
   "file_extension": ".py",
   "mimetype": "text/x-python",
   "name": "python",
   "nbconvert_exporter": "python",
   "pygments_lexer": "ipython3",
   "version": "3.6.9"
  }
 },
 "nbformat": 4,
 "nbformat_minor": 1
}
